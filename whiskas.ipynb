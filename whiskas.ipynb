{
 "cells": [
  {
   "cell_type": "markdown",
   "metadata": {},
   "source": [
    "# The Simplified Whiskas Model Python Formulation for the PuLP Modeller\n",
    "\n",
    "#### Authors: Antony Phillips, Dr Stuart Mitchell  2007\n",
    "\n",
    "### Problem Description:\n",
    "\n",
    "Whiskas cat food is manufactured by Uncle Ben’s. Uncle Ben’s want to produce their cat food products as cheaply as possible while ensuring they meet the stated nutritional analysis requirements shown on the cans. Thus they want to vary the quantities of each ingredient used (the main ingredients being chicken, beef, mutton, rice, wheat and gel) while still meeting their nutritional standards. The costs of the chicken, beef, and mutton are \\$0.013, \\$0.008 and \\$0.010 respectively, while the costs of the rice, wheat and gel are \\$0.002, \\$0.005 and \\$0.001 respectively (all costs are per gram). For this exercise we will ignore the vitamin and mineral ingredients, any costs for these are likely to be very small anyway.\n",
    "\n",
    "Each ingredient contributes to the total weight of protein, fat, fiber and salt in the final product. The contributions per gram of ingredient are given in the table below.\n",
    "\n",
    "|Ingredient|Protein|Fat   |Fibre |Salt |\n",
    "|----------|-------|------|------|-----|\n",
    "|Chicken   |0.100  |0.080 |0.001 |0.002|\n",
    "|Beef      |0.200  |0.100 |0.005 |0.005|\n",
    "|Mutton\t   |0.150  |0.110 |0.003 |0.007|\n",
    "|Rice      |0.000  |0.010 |0.100 |0.002|\n",
    "|Wheat Bran|0.040  |0.010 |0.150 |0.008|\n",
    "*Ingredient's contribution (in grams)\n",
    "\n",
    "To meet the nutritional analysis requirements, we need to have at least 8g of Protein per 100g, 6g of fat, but no more than 2g of fiber and 0.4g of salt. Formulate the LP model that minimizes cost per can of cat food.\n"
   ]
  },
  {
   "cell_type": "code",
   "execution_count": 1,
   "metadata": {
    "collapsed": true
   },
   "outputs": [],
   "source": [
    "# pip install pulp\n",
    "from pulp import *"
   ]
  },
  {
   "cell_type": "code",
   "execution_count": 2,
   "metadata": {
    "collapsed": true
   },
   "outputs": [],
   "source": [
    "# List of the Ingredients\n",
    "ingredients = ['CHICKEN', 'BEEF', 'MUTTON', 'RICE', 'WHEAT', 'GEL']"
   ]
  },
  {
   "cell_type": "code",
   "execution_count": 3,
   "metadata": {
    "collapsed": true
   },
   "outputs": [],
   "source": [
    "# A dictionary of the costs of each of the Ingredients\n",
    "costs = {'CHICKEN': 0.013, \n",
    "         'BEEF': 0.008, \n",
    "         'MUTTON': 0.010, \n",
    "         'RICE': 0.002, \n",
    "         'WHEAT': 0.005, \n",
    "         'GEL': 0.001}\n",
    "\n",
    "# A dictionary of the protein percent in each of the Ingredients\n",
    "protein_percent = {'CHICKEN': 0.100, \n",
    "                  'BEEF': 0.200, \n",
    "                  'MUTTON': 0.150, \n",
    "                  'RICE': 0.000, \n",
    "                  'WHEAT': 0.040, \n",
    "                  'GEL': 0.000}\n",
    "\n",
    "# A dictionary of the fat percent in each of the Ingredients\n",
    "fat_percent =     {'CHICKEN': 0.080, \n",
    "                  'BEEF': 0.100, \n",
    "                  'MUTTON': 0.110, \n",
    "                  'RICE': 0.010, \n",
    "                  'WHEAT': 0.010, \n",
    "                  'GEL': 0.000}\n",
    "\n",
    "# A dictionary of the fibre percent in each of the Ingredients\n",
    "fibre_percent =   {'CHICKEN': 0.001, \n",
    "                  'BEEF': 0.005, \n",
    "                  'MUTTON': 0.003, \n",
    "                  'RICE': 0.100, \n",
    "                  'WHEAT': 0.150, \n",
    "                  'GEL': 0.000}\n",
    "\n",
    "# A dictionary of the salt percent in each of the Ingredients\n",
    "salt_percent =    {'CHICKEN': 0.002, \n",
    "                  'BEEF': 0.005, \n",
    "                  'MUTTON': 0.007, \n",
    "                  'RICE': 0.002, \n",
    "                  'WHEAT': 0.008, \n",
    "                  'GEL': 0.000}"
   ]
  },
  {
   "cell_type": "code",
   "execution_count": 4,
   "metadata": {
    "collapsed": true
   },
   "outputs": [],
   "source": [
    "# prob variable to hold the problem data\n",
    "prob = LpProblem('The Whiskas Problem', LpMinimize)"
   ]
  },
  {
   "cell_type": "code",
   "execution_count": 5,
   "metadata": {
    "collapsed": false
   },
   "outputs": [
    {
     "data": {
      "text/plain": [
       "{'BEEF': Ingr_BEEF,\n",
       " 'CHICKEN': Ingr_CHICKEN,\n",
       " 'GEL': Ingr_GEL,\n",
       " 'MUTTON': Ingr_MUTTON,\n",
       " 'RICE': Ingr_RICE,\n",
       " 'WHEAT': Ingr_WHEAT}"
      ]
     },
     "execution_count": 5,
     "metadata": {},
     "output_type": "execute_result"
    }
   ],
   "source": [
    "# A dictionary to hold the referenced Variables\n",
    "ingredient_vars = LpVariable.dicts('Ingr', ingredients, 0)\n",
    "ingredient_vars"
   ]
  },
  {
   "cell_type": "code",
   "execution_count": 6,
   "metadata": {
    "collapsed": false
   },
   "outputs": [],
   "source": [
    "# The objective function is added to 'prob' first\n",
    "prob += lpSum([costs[i] * ingredient_vars[i] for i in ingredients]), 'Total cost of ingredients per can'"
   ]
  },
  {
   "cell_type": "code",
   "execution_count": 7,
   "metadata": {
    "collapsed": true
   },
   "outputs": [],
   "source": [
    "# The five constraints are added to 'prob'\n",
    "prob += lpSum([ingredient_vars[i] for i in ingredients]) == 100, 'Percentages Sum'\n",
    "prob += lpSum([protein_percent[i] * ingredient_vars[i] for i in ingredients]) >= 8.0, 'Protein requirement'\n",
    "prob += lpSum([fat_percent[i] * ingredient_vars[i] for i in ingredients]) >= 6.0, 'Fat requirement'\n",
    "prob += lpSum([fibre_percent[i] * ingredient_vars[i] for i in ingredients]) <= 2.0, 'Fibre requirement'\n",
    "prob += lpSum([salt_percent[i] * ingredient_vars[i] for i in ingredients]) <= 0.4, 'Salt requirement'"
   ]
  },
  {
   "cell_type": "code",
   "execution_count": 8,
   "metadata": {
    "collapsed": false
   },
   "outputs": [
    {
     "data": {
      "text/plain": [
       "The Whiskas Problem:\n",
       "MINIMIZE\n",
       "0.008*Ingr_BEEF + 0.013*Ingr_CHICKEN + 0.001*Ingr_GEL + 0.01*Ingr_MUTTON + 0.002*Ingr_RICE + 0.005*Ingr_WHEAT + 0.0\n",
       "SUBJECT TO\n",
       "Percentages_Sum: Ingr_BEEF + Ingr_CHICKEN + Ingr_GEL + Ingr_MUTTON + Ingr_RICE\n",
       " + Ingr_WHEAT = 100\n",
       "\n",
       "Protein_requirement: 0.2 Ingr_BEEF + 0.1 Ingr_CHICKEN + 0.15 Ingr_MUTTON\n",
       " + 0.04 Ingr_WHEAT >= 8\n",
       "\n",
       "Fat_requirement: 0.1 Ingr_BEEF + 0.08 Ingr_CHICKEN + 0.11 Ingr_MUTTON\n",
       " + 0.01 Ingr_RICE + 0.01 Ingr_WHEAT >= 6\n",
       "\n",
       "Fibre_requirement: 0.005 Ingr_BEEF + 0.001 Ingr_CHICKEN + 0.003 Ingr_MUTTON\n",
       " + 0.1 Ingr_RICE + 0.15 Ingr_WHEAT <= 2\n",
       "\n",
       "Salt_requirement: 0.005 Ingr_BEEF + 0.002 Ingr_CHICKEN + 0.007 Ingr_MUTTON\n",
       " + 0.002 Ingr_RICE + 0.008 Ingr_WHEAT <= 0.4\n",
       "\n",
       "VARIABLES\n",
       "Ingr_BEEF Continuous\n",
       "Ingr_CHICKEN Continuous\n",
       "Ingr_GEL Continuous\n",
       "Ingr_MUTTON Continuous\n",
       "Ingr_RICE Continuous\n",
       "Ingr_WHEAT Continuous"
      ]
     },
     "execution_count": 8,
     "metadata": {},
     "output_type": "execute_result"
    }
   ],
   "source": [
    "# Uncomment below line to save the problem data to an .lp file\n",
    "# prob.writeLP(\"Whiskas_big.lp\")\n",
    "prob"
   ]
  },
  {
   "cell_type": "code",
   "execution_count": 9,
   "metadata": {
    "collapsed": false
   },
   "outputs": [
    {
     "name": "stdout",
     "output_type": "stream",
     "text": [
      "Wall time: 748 ms\n"
     ]
    },
    {
     "data": {
      "text/plain": [
       "1"
      ]
     },
     "execution_count": 9,
     "metadata": {},
     "output_type": "execute_result"
    }
   ],
   "source": [
    "%%time\n",
    "# The problem is solved using PuLP's choice of Solver\n",
    "prob.solve()"
   ]
  },
  {
   "cell_type": "code",
   "execution_count": 10,
   "metadata": {
    "collapsed": false
   },
   "outputs": [
    {
     "name": "stdout",
     "output_type": "stream",
     "text": [
      "Status: Optimal\n"
     ]
    }
   ],
   "source": [
    "# The status of the solution is printed to the screen\n",
    "print(\"Status:\", LpStatus[prob.status])"
   ]
  },
  {
   "cell_type": "code",
   "execution_count": 11,
   "metadata": {
    "collapsed": false
   },
   "outputs": [
    {
     "name": "stdout",
     "output_type": "stream",
     "text": [
      "Ingr_BEEF = 60.0\n",
      "Ingr_CHICKEN = 0.0\n",
      "Ingr_GEL = 40.0\n",
      "Ingr_MUTTON = 0.0\n",
      "Ingr_RICE = 0.0\n",
      "Ingr_WHEAT = 0.0\n"
     ]
    }
   ],
   "source": [
    "# Each of the variables is printed with it's resolved optimum value\n",
    "for v in prob.variables():\n",
    "    print(v.name, \"=\", v.varValue)"
   ]
  },
  {
   "cell_type": "code",
   "execution_count": 12,
   "metadata": {
    "collapsed": false
   },
   "outputs": [
    {
     "name": "stdout",
     "output_type": "stream",
     "text": [
      "Total Cost of Ingredients per can =  0.52\n"
     ]
    }
   ],
   "source": [
    "# The optimised objective function value is printed to the screen\n",
    "print(\"Total Cost of Ingredients per can = \", value(prob.objective))"
   ]
  },
  {
   "cell_type": "markdown",
   "metadata": {},
   "source": [
    "#### End of first Git Jupyter Notebook"
   ]
  }
 ],
 "metadata": {
  "kernelspec": {
   "display_name": "Python 3",
   "language": "python",
   "name": "python3"
  },
  "language_info": {
   "codemirror_mode": {
    "name": "ipython",
    "version": 3
   },
   "file_extension": ".py",
   "mimetype": "text/x-python",
   "name": "python",
   "nbconvert_exporter": "python",
   "pygments_lexer": "ipython3",
   "version": "3.6.0"
  }
 },
 "nbformat": 4,
 "nbformat_minor": 2
}
